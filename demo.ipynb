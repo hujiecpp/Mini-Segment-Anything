{
 "cells": [
  {
   "cell_type": "code",
   "execution_count": null,
   "metadata": {},
   "outputs": [],
   "source": [
    "from mini_segment_anything import build_sam_yoso_r50\n",
    "from segment_anything import sam_model_registry, SamPredictor\n",
    "\n",
    "# sam-huge\n",
    "sam_checkpoint = './sam_vit_h_4b8939.pth'\n",
    "model_type = 'vit_h'\n",
    "sam_huge = sam_model_registry[model_type](checkpoint=sam_checkpoint).to('cuda')\n",
    "predictor_huge = SamPredictor(sam_huge)\n",
    "\n",
    "# sam-mini\n",
    "sam_checkpoint = './sam_yoso_r50_13a999.pth'\n",
    "sam_mini = build_sam_yoso_r50(checkpoint=sam_checkpoint).to('cuda')\n",
    "predictor_mini = SamPredictor(sam_mini)"
   ]
  },
  {
   "cell_type": "code",
   "execution_count": null,
   "metadata": {},
   "outputs": [],
   "source": [
    "import cv2\n",
    "import time\n",
    "import numpy as np\n",
    "import matplotlib.pyplot as plt\n",
    "\n",
    "def show_mask(mask, ax, random_color=False):\n",
    "    if random_color:\n",
    "        color = np.concatenate([np.random.random(3), np.array([0.6])], axis=0)\n",
    "    else:\n",
    "        color = np.array([30/255, 144/255, 255/255, 0.6])\n",
    "    h, w = mask.shape[-2:]\n",
    "    mask_image = mask.reshape(h, w, 1) * color.reshape(1, 1, -1)\n",
    "    ax.imshow(mask_image)\n",
    "    \n",
    "def show_points(coords, labels, ax, marker_size=375):\n",
    "    pos_points = coords[labels==1]\n",
    "    neg_points = coords[labels==0]\n",
    "    ax.scatter(pos_points[:, 0], pos_points[:, 1], color='green', marker='*', s=marker_size, edgecolor='white', linewidth=1.25)\n",
    "    ax.scatter(neg_points[:, 0], neg_points[:, 1], color='red', marker='*', s=marker_size, edgecolor='white', linewidth=1.25)   \n",
    "    \n",
    "def show_box(box, ax):\n",
    "    x0, y0 = box[0], box[1]\n",
    "    w, h = box[2] - box[0], box[3] - box[1]\n",
    "    ax.add_patch(plt.Rectangle((x0, y0), w, h, edgecolor='green', facecolor=(0,0,0,0), lw=2))"
   ]
  },
  {
   "cell_type": "code",
   "execution_count": null,
   "metadata": {},
   "outputs": [],
   "source": [
    "image = cv2.imread('./images/truck.jpg')\n",
    "image = cv2.cvtColor(image, cv2.COLOR_BGR2RGB)\n",
    "input_point = np.array([[600, 655]])\n",
    "input_label = np.array([1])\n",
    "input_box = np.array([400, 600, 700, 900])"
   ]
  },
  {
   "cell_type": "code",
   "execution_count": null,
   "metadata": {},
   "outputs": [],
   "source": [
    "start = time.time()\n",
    "predictor_huge.set_image(image)\n",
    "end = time.time()\n",
    "\n",
    "masks, scores, logits = predictor_huge.predict(\n",
    "    point_coords=input_point,\n",
    "    point_labels=input_label,\n",
    "    # box=input_box[None, :],\n",
    "    multimask_output=False,\n",
    ")\n",
    "\n",
    "plt.figure(figsize=(10,10))\n",
    "plt.imshow(image)\n",
    "show_mask(masks, plt.gca())\n",
    "show_points(input_point, input_label, plt.gca())\n",
    "# show_box(input_box, plt.gca())\n",
    "plt.axis('on')\n",
    "plt.title(\"SAM_huge time: \" + str(end - start) + \"s\")\n",
    "plt.show()"
   ]
  },
  {
   "cell_type": "code",
   "execution_count": null,
   "metadata": {},
   "outputs": [],
   "source": [
    "start = time.time()\n",
    "predictor_mini.set_image(image)\n",
    "end = time.time()\n",
    "\n",
    "masks, scores, logits = predictor_mini.predict(\n",
    "    point_coords=input_point,\n",
    "    point_labels=input_label,\n",
    "    # box=input_box[None, :],\n",
    "    multimask_output=False,\n",
    ")\n",
    "\n",
    "plt.figure(figsize=(10,10))\n",
    "plt.imshow(image)\n",
    "show_mask(masks, plt.gca())\n",
    "show_points(input_point, input_label, plt.gca())\n",
    "# show_box(input_box, plt.gca())\n",
    "plt.title(\"SAM_mini time: \" + str(end - start) + \"s\")\n",
    "plt.axis('on')\n",
    "plt.show() "
   ]
  }
 ],
 "metadata": {
  "kernelspec": {
   "display_name": "sam_mini",
   "language": "python",
   "name": "python3"
  },
  "language_info": {
   "codemirror_mode": {
    "name": "ipython",
    "version": 3
   },
   "file_extension": ".py",
   "mimetype": "text/x-python",
   "name": "python",
   "nbconvert_exporter": "python",
   "pygments_lexer": "ipython3",
   "version": "3.8.16"
  },
  "orig_nbformat": 4
 },
 "nbformat": 4,
 "nbformat_minor": 2
}
